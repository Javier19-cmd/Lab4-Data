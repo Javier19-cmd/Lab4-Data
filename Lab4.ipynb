{
 "cells": [
  {
   "cell_type": "markdown",
   "metadata": {},
   "source": [
    "# Laboratorio 4\n",
    "\n",
    "#### Mario de León 19029\n",
    "#### Javier Valle 20159"
   ]
  },
  {
   "cell_type": "code",
   "execution_count": 2,
   "metadata": {},
   "outputs": [
    {
     "data": {
      "text/plain": [
       "'\\n    Datos:\\n    id: Identificador del Tweet.\\n    keword: una palabra clave del tweet, puede estar en blanco.\\n    location: la ubicación desde donde fue enviado el tweet.\\n    text: el texto del tweet.\\n    target: indica si se trata de un desastre real (1) o no (0). \\n'"
      ]
     },
     "execution_count": 2,
     "metadata": {},
     "output_type": "execute_result"
    }
   ],
   "source": [
    "# Descripción de los datos, preprocesamiento y sus explicaciones, unigramas, bigramas, modelo preliminar de predicción.\n",
    "\n",
    "\"\"\"\n",
    "    Datos:\n",
    "    id: Identificador del Tweet.\n",
    "    keword: una palabra clave del tweet, puede estar en blanco.\n",
    "    location: la ubicación desde donde fue enviado el tweet.\n",
    "    text: el texto del tweet.\n",
    "    target: indica si se trata de un desastre real (1) o no (0). \n",
    "\"\"\""
   ]
  },
  {
   "cell_type": "markdown",
   "metadata": {},
   "source": [
    "### Inciso 2: Cargar los datos."
   ]
  },
  {
   "cell_type": "markdown",
   "metadata": {},
   "source": [
    "#### Imports necesarios."
   ]
  },
  {
   "cell_type": "code",
   "execution_count": 10,
   "metadata": {},
   "outputs": [],
   "source": [
    "import pandas as pd\n",
    "import re"
   ]
  },
  {
   "cell_type": "code",
   "execution_count": 6,
   "metadata": {},
   "outputs": [
    {
     "name": "stdout",
     "output_type": "stream",
     "text": [
      "Test\n",
      "   id keyword location                                               text\n",
      "0   0     NaN      NaN                 Just happened a terrible car crash\n",
      "1   2     NaN      NaN  Heard about #earthquake is different cities, s...\n",
      "2   3     NaN      NaN  there is a forest fire at spot pond, geese are...\n",
      "3   9     NaN      NaN           Apocalypse lighting. #Spokane #wildfires\n",
      "4  11     NaN      NaN      Typhoon Soudelor kills 28 in China and Taiwan\n",
      "Train\n",
      "   id keyword location                                               text\n",
      "0   0     NaN      NaN                 Just happened a terrible car crash\n",
      "1   2     NaN      NaN  Heard about #earthquake is different cities, s...\n",
      "2   3     NaN      NaN  there is a forest fire at spot pond, geese are...\n",
      "3   9     NaN      NaN           Apocalypse lighting. #Spokane #wildfires\n",
      "4  11     NaN      NaN      Typhoon Soudelor kills 28 in China and Taiwan\n",
      "Test\n",
      "<class 'pandas.core.frame.DataFrame'>\n",
      "RangeIndex: 3263 entries, 0 to 3262\n",
      "Data columns (total 4 columns):\n",
      " #   Column    Non-Null Count  Dtype \n",
      "---  ------    --------------  ----- \n",
      " 0   id        3263 non-null   int64 \n",
      " 1   keyword   3237 non-null   object\n",
      " 2   location  2158 non-null   object\n",
      " 3   text      3263 non-null   object\n",
      "dtypes: int64(1), object(3)\n",
      "memory usage: 102.1+ KB\n",
      "None\n",
      "Train\n",
      "<class 'pandas.core.frame.DataFrame'>\n",
      "RangeIndex: 7613 entries, 0 to 7612\n",
      "Data columns (total 5 columns):\n",
      " #   Column    Non-Null Count  Dtype \n",
      "---  ------    --------------  ----- \n",
      " 0   id        7613 non-null   int64 \n",
      " 1   keyword   7552 non-null   object\n",
      " 2   location  5080 non-null   object\n",
      " 3   text      7613 non-null   object\n",
      " 4   target    7613 non-null   int64 \n",
      "dtypes: int64(2), object(3)\n",
      "memory usage: 297.5+ KB\n",
      "None\n"
     ]
    }
   ],
   "source": [
    "# Cargar el dataset desde un archivo CSV\n",
    "test = pd.read_csv('test.csv')\n",
    "\n",
    "train = pd.read_csv(\"train.csv\")\n",
    "\n",
    "# Cargando las primeras 5 filas del dataset.\n",
    "print(\"Test\")\n",
    "print(test.head())\n",
    "\n",
    "print(\"Train\")\n",
    "print(test.head())"
   ]
  },
  {
   "cell_type": "code",
   "execution_count": 7,
   "metadata": {},
   "outputs": [
    {
     "name": "stdout",
     "output_type": "stream",
     "text": [
      "Test\n",
      "<class 'pandas.core.frame.DataFrame'>\n",
      "RangeIndex: 3263 entries, 0 to 3262\n",
      "Data columns (total 4 columns):\n",
      " #   Column    Non-Null Count  Dtype \n",
      "---  ------    --------------  ----- \n",
      " 0   id        3263 non-null   int64 \n",
      " 1   keyword   3237 non-null   object\n",
      " 2   location  2158 non-null   object\n",
      " 3   text      3263 non-null   object\n",
      "dtypes: int64(1), object(3)\n",
      "memory usage: 102.1+ KB\n",
      "None\n",
      "Train\n",
      "<class 'pandas.core.frame.DataFrame'>\n",
      "RangeIndex: 7613 entries, 0 to 7612\n",
      "Data columns (total 5 columns):\n",
      " #   Column    Non-Null Count  Dtype \n",
      "---  ------    --------------  ----- \n",
      " 0   id        7613 non-null   int64 \n",
      " 1   keyword   7552 non-null   object\n",
      " 2   location  5080 non-null   object\n",
      " 3   text      7613 non-null   object\n",
      " 4   target    7613 non-null   int64 \n",
      "dtypes: int64(2), object(3)\n",
      "memory usage: 297.5+ KB\n",
      "None\n"
     ]
    }
   ],
   "source": [
    "# Info del dataset.\n",
    "print(\"Test\")\n",
    "print(test.info())\n",
    "\n",
    "print(\"Train\")\n",
    "print(train.info())"
   ]
  },
  {
   "cell_type": "markdown",
   "metadata": {},
   "source": [
    "## Inciso 3: Limpie y preprocese los datos. Describa de forma detallada las activdades de preprocesamiento que llevó a cabo."
   ]
  },
  {
   "cell_type": "code",
   "execution_count": 9,
   "metadata": {},
   "outputs": [
    {
     "name": "stdout",
     "output_type": "stream",
     "text": [
      "         id keyword location   \n",
      "0         0     nan      nan  \\\n",
      "1         2     nan      nan   \n",
      "2         3     nan      nan   \n",
      "3         9     nan      nan   \n",
      "4        11     nan      nan   \n",
      "...     ...     ...      ...   \n",
      "3258  10861     nan      nan   \n",
      "3259  10865     nan      nan   \n",
      "3260  10868     nan      nan   \n",
      "3261  10874     nan      nan   \n",
      "3262  10875     nan      nan   \n",
      "\n",
      "                                                   text  \n",
      "0                    just happened a terrible car crash  \n",
      "1     heard about #earthquake is different cities, s...  \n",
      "2     there is a forest fire at spot pond, geese are...  \n",
      "3              apocalypse lighting. #spokane #wildfires  \n",
      "4         typhoon soudelor kills 28 in china and taiwan  \n",
      "...                                                 ...  \n",
      "3258  earthquake safety los angeles ûò safety faste...  \n",
      "3259  storm in ri worse than last hurricane. my city...  \n",
      "3260  green line derailment in chicago http://t.co/u...  \n",
      "3261  meg issues hazardous weather outlook (hwo) htt...  \n",
      "3262  #cityofcalgary has activated its municipal eme...  \n",
      "\n",
      "[3263 rows x 4 columns]\n",
      "         id keyword location   \n",
      "0         1     nan      nan  \\\n",
      "1         4     nan      nan   \n",
      "2         5     nan      nan   \n",
      "3         6     nan      nan   \n",
      "4         7     nan      nan   \n",
      "...     ...     ...      ...   \n",
      "7608  10869     nan      nan   \n",
      "7609  10870     nan      nan   \n",
      "7610  10871     nan      nan   \n",
      "7611  10872     nan      nan   \n",
      "7612  10873     nan      nan   \n",
      "\n",
      "                                                   text  target  \n",
      "0     our deeds are the reason of this #earthquake m...       1  \n",
      "1                forest fire near la ronge sask. canada       1  \n",
      "2     all residents asked to 'shelter in place' are ...       1  \n",
      "3     13,000 people receive #wildfires evacuation or...       1  \n",
      "4     just got sent this photo from ruby #alaska as ...       1  \n",
      "...                                                 ...     ...  \n",
      "7608  two giant cranes holding a bridge collapse int...       1  \n",
      "7609  @aria_ahrary @thetawniest the out of control w...       1  \n",
      "7610  m1.94 [01:04 utc]?5km s of volcano hawaii. htt...       1  \n",
      "7611  police investigating after an e-bike collided ...       1  \n",
      "7612  the latest: more homes razed by northern calif...       1  \n",
      "\n",
      "[7613 rows x 5 columns]\n"
     ]
    }
   ],
   "source": [
    "# Convertir el texto a mayúsculas o minúsculas.\n",
    "\n",
    "# Convertiendo todas las columnas de texto a minúsculas del dataset test.\n",
    "test = test.apply(lambda x: x.astype(str).str.lower() if x.dtype == \"object\" else x)\n",
    "\n",
    "# Imprimiendo el DataFrame resultante\n",
    "print(test)\n",
    "\n",
    "# Convertiendo todas las columnas de texto a minúsculas del dataset train.\n",
    "train = train.apply(lambda x: x.astype(str).str.lower() if x.dtype == \"object\" else x)\n",
    "\n",
    "# Imprimiendo el DataFrame resultante\n",
    "print(train)"
   ]
  },
  {
   "cell_type": "markdown",
   "metadata": {},
   "source": [
    "#### Quitando las menciones."
   ]
  },
  {
   "cell_type": "code",
   "execution_count": null,
   "metadata": {},
   "outputs": [],
   "source": [
    "# Definiendo una función para quitar menciones a usuarios\n",
    "def remove_mentions(text):\n",
    "    cleaned_text = re.sub(r'@\\w+', '', text)  # Eliminando menciones que comiencen con @ seguidas de caracteres alfanuméricos\n",
    "    return cleaned_text\n",
    "\n",
    "# Aplicar la función a la columna que contiene el texto.\n",
    "train['tweet'] = train['tweet'].apply(remove_mentions)\n",
    "\n",
    "# Imprimir el DataFrame resultante\n",
    "print(train)"
   ]
  },
  {
   "cell_type": "markdown",
   "metadata": {},
   "source": [
    "#### Quitando caracteres especiales."
   ]
  },
  {
   "cell_type": "code",
   "execution_count": 12,
   "metadata": {},
   "outputs": [
    {
     "name": "stdout",
     "output_type": "stream",
     "text": [
      "         id keyword location   \n",
      "0         1     nan      nan  \\\n",
      "1         4     nan      nan   \n",
      "2         5     nan      nan   \n",
      "3         6     nan      nan   \n",
      "4         7     nan      nan   \n",
      "...     ...     ...      ...   \n",
      "7608  10869     nan      nan   \n",
      "7609  10870     nan      nan   \n",
      "7610  10871     nan      nan   \n",
      "7611  10872     nan      nan   \n",
      "7612  10873     nan      nan   \n",
      "\n",
      "                                                   text  target  \n",
      "0     our deeds are the reason of this earthquake ma...       1  \n",
      "1                 forest fire near la ronge sask canada       1  \n",
      "2     all residents asked to shelter in place are be...       1  \n",
      "3     13000 people receive wildfires evacuation orde...       1  \n",
      "4     just got sent this photo from ruby alaska as s...       1  \n",
      "...                                                 ...     ...  \n",
      "7608  two giant cranes holding a bridge collapse int...       1  \n",
      "7609  ariaahrary thetawniest the out of control wild...       1  \n",
      "7610  m194 0104 utc5km s of volcano hawaii httptcozd...       1  \n",
      "7611  police investigating after an ebike collided w...       1  \n",
      "7612  the latest more homes razed by northern califo...       1  \n",
      "\n",
      "[7613 rows x 5 columns]\n",
      "         id keyword location   \n",
      "0         0     nan      nan  \\\n",
      "1         2     nan      nan   \n",
      "2         3     nan      nan   \n",
      "3         9     nan      nan   \n",
      "4        11     nan      nan   \n",
      "...     ...     ...      ...   \n",
      "3258  10861     nan      nan   \n",
      "3259  10865     nan      nan   \n",
      "3260  10868     nan      nan   \n",
      "3261  10874     nan      nan   \n",
      "3262  10875     nan      nan   \n",
      "\n",
      "                                                   text  \n",
      "0                    just happened a terrible car crash  \n",
      "1     heard about earthquake is different cities sta...  \n",
      "2     there is a forest fire at spot pond geese are ...  \n",
      "3                 apocalypse lighting spokane wildfires  \n",
      "4         typhoon soudelor kills 28 in china and taiwan  \n",
      "...                                                 ...  \n",
      "3258  earthquake safety los angeles  safety fastener...  \n",
      "3259  storm in ri worse than last hurricane my citya...  \n",
      "3260  green line derailment in chicago httptcoutbxlc...  \n",
      "3261  meg issues hazardous weather outlook hwo httpt...  \n",
      "3262  cityofcalgary has activated its municipal emer...  \n",
      "\n",
      "[3263 rows x 4 columns]\n"
     ]
    }
   ],
   "source": [
    "# Función para limpiar los caracteres especiales\n",
    "def clean_text(text):\n",
    "    if isinstance(text, str):\n",
    "        # Eliminar caracteres no alfanuméricos excepto espacios\n",
    "        cleaned_text = re.sub(r'[^a-zA-Z0-9\\s]', '', text)\n",
    "        return cleaned_text\n",
    "    else:\n",
    "        return text\n",
    "\n",
    "# Aplicando la función a todas las columnas de texto del df train.\n",
    "train = train.applymap(clean_text)\n",
    "\n",
    "# Imprimir df resultante\n",
    "print(train)\n",
    "\n",
    "# Aplicando la función a todas las columnas de texto del df test\n",
    "test = test.applymap(clean_text)\n",
    "\n",
    "# Imprimir df resultante\n",
    "print(test)"
   ]
  }
 ],
 "metadata": {
  "kernelspec": {
   "display_name": "Python 3",
   "language": "python",
   "name": "python3"
  },
  "language_info": {
   "codemirror_mode": {
    "name": "ipython",
    "version": 3
   },
   "file_extension": ".py",
   "mimetype": "text/x-python",
   "name": "python",
   "nbconvert_exporter": "python",
   "pygments_lexer": "ipython3",
   "version": "3.11.3"
  },
  "orig_nbformat": 4
 },
 "nbformat": 4,
 "nbformat_minor": 2
}
